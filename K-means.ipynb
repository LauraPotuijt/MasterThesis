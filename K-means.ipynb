{
 "cells": [
  {
   "cell_type": "code",
   "execution_count": null,
   "metadata": {},
   "outputs": [],
   "source": [
    "\n",
    "import numpy as np\n",
    "import pandas as pd\n",
    "import sklearn\n",
    "import os\n",
    "\n",
    "\n",
    "\n",
    "#These libraries help with dealing with image datasets\n",
    "import cv2\n",
    "import matplotlib.pyplot as plt\n",
    "import torch\n",
    "import torchvision\n",
    "from torch.utils.data import Dataset, DataLoader\n",
    "from torchvision import transforms, utils\n",
    "from torchvision import datasets, models, transforms\n",
    "\n",
    "!pip install random2\n",
    "import random2\n",
    "from sklearn.model_selection import train_test_split\n",
    "\n",
    "import matplotlib.pyplot as plt\n",
    "!pip install kneed\n",
    "from kneed import KneeLocator\n",
    "from sklearn.datasets import make_blobs\n",
    "from sklearn.cluster import KMeans\n",
    "from sklearn.metrics import silhouette_score\n",
    "from sklearn.preprocessing import StandardScaler\n",
    "\n",
    "import faiss\n",
    "import glob\n",
    "import seaborn as sns\n",
    "import matplotlib.cm as cm\n",
    "from sklearn.metrics import accuracy_score\n",
    "from sklearn.metrics import confusion_matrix"
   ]
  },
  {
   "cell_type": "code",
   "execution_count": null,
   "metadata": {},
   "outputs": [],
   "source": [
    "with open('C:/Users/laura/Google Drive/WikiArt2/features.npy', 'rb') as f:\n",
    "    X = np.load(f)\n",
    "with open('C:/Users/laura/Google Drive/WikiArt2/labels.npy', 'rb') as f:\n",
    "    y = np.load(f)"
   ]
  },
  {
   "cell_type": "code",
   "execution_count": null,
   "metadata": {},
   "outputs": [],
   "source": [
    "import gc\n",
    "\n",
    "gc.collect()"
   ]
  },
  {
   "cell_type": "code",
   "execution_count": null,
   "metadata": {},
   "outputs": [],
   "source": [
    "# pre-process\n",
    "\n",
    "from sklearn.model_selection import train_test_split\n",
    "\n",
    "X_train, X_test, y_train, y_test = train_test_split( X, y, test_size=0.7)\n",
    "\n",
    "print(X_train.shape)\n",
    "print(X_train.reshape(len(X_train),-1).shape)\n",
    "\n",
    "# flatten 128*128*3\n",
    "reshaped_data = X_train.reshape(len(X_train),-1)\n",
    "# normalise\n",
    "gc.collect()\n",
    "# convert from integers to floats\n",
    "reshaped_data = reshaped_data.astype('float16')\n",
    "# normalize to the range 0-1\n",
    "reshaped_data /= 255.0\n",
    "# confirm the normalization\n",
    "print('Min: %.3f, Max: %.3f' % (reshaped_data.min(), reshaped_data.max()))"
   ]
  },
  {
   "cell_type": "code",
   "execution_count": null,
   "metadata": {},
   "outputs": [],
   "source": [
    "reshaped_y = y_train.astype('int16')"
   ]
  },
  {
   "cell_type": "code",
   "execution_count": null,
   "metadata": {},
   "outputs": [],
   "source": [
    "!pip install datatable\n",
    "import datatable as dt\n",
    "reshape_dt = dt.Frame(reshaped_data)"
   ]
  },
  {
   "cell_type": "code",
   "execution_count": null,
   "metadata": {},
   "outputs": [],
   "source": [
    "# mapping labels from cluster to original labels\n",
    "def get_reference_dict(clusters,data_label):\n",
    "    reference_label = {}\n",
    "    # For loop to run through each label of cluster label\n",
    "    for i in range(len(np.unique(clusters))):\n",
    "        index = np.where(clusters == i,1,0)\n",
    "        num = np.bincount(data_label[index==1]).argmax()\n",
    "        reference_label[i] = num\n",
    "    return reference_label\n",
    "# Mapping predictions to original labels\n",
    "def get_labels(clusters,reference_labels):\n",
    "    temp_labels = np.random.rand(len(clusters))\n",
    "    for i in range(len(clusters)):\n",
    "        temp_labels[i] = reference_labels[clusters[i]]\n",
    "    return temp_labels"
   ]
  },
  {
   "cell_type": "code",
   "execution_count": null,
   "metadata": {},
   "outputs": [],
   "source": [
    "from sklearn.cluster import MiniBatchKMeans"
   ]
  },
  {
   "cell_type": "code",
   "execution_count": null,
   "metadata": {},
   "outputs": [],
   "source": [
    "k = 14\n",
    "kmeans = MiniBatchKMeans(\n",
    "    n_clusters=k, \n",
    "    random_state=12, \n",
    "    batch_size=1000)\n",
    "clusters = kmeans.fit_predict(reshaped_data)\n",
    "clusters = clusters.astype(\"int\")\n",
    "sse=kmeans.inertia_\n",
    "reference_labels = get_reference_dict(clusters,y_train)\n",
    "predicted_labels = get_labels(clusters,reference_labels)\n",
    "print(f\"Accuracy for k = {k}: \", accuracy_score(predicted_labels,y_train))"
   ]
  },
  {
   "cell_type": "code",
   "execution_count": null,
   "metadata": {},
   "outputs": [],
   "source": [
    "plt.hist(clusters)\n",
    "plt.title('Number of classifications per cluster');"
   ]
  },
  {
   "cell_type": "code",
   "execution_count": null,
   "metadata": {},
   "outputs": [],
   "source": [
    "from sklearn.manifold import TSNE\n",
    "idx = np.random.randint(6000, size=1500)\n",
    "reshaped_data_sub = reshaped_data[idx,:]\n",
    "clusters_sub = clusters[idx]\n",
    "cmap = plt.get_cmap('cool',14) \n",
    "\n",
    "\n",
    "def tsne_plot(x1, y1, name=\"graph.png\"):\n",
    "    tsne = TSNE(n_components=2, random_state=0)\n",
    "    X_t = tsne.fit_transform(x1)\n",
    "    \n",
    "    u_labels = np.unique(y1)\n",
    "    \n",
    "    plt.figure(figsize=(12, 8))\n",
    "    for i in u_labels:\n",
    "        plt.scatter(X_t[np.where(y1 == i), 0], X_t[np.where(y1 == i), 1], linewidth='1', alpha=0.8, label= i, cmap =cmap)\n",
    "    plt.legend(loc='best');\n",
    "    plt.savefig(name);\n",
    "    plt.show();\n",
    "    \n",
    "tsne_plot(reshaped_data_sub, clusters_sub, \"original.png\")"
   ]
  },
  {
   "cell_type": "code",
   "execution_count": null,
   "metadata": {},
   "outputs": [],
   "source": [
    "reference_labels = get_reference_dict(clusters,y_train)\n",
    "predicted_labels = get_labels(clusters,reference_labels)\n",
    "print(accuracy_score(predicted_labels,y_train))"
   ]
  },
  {
   "cell_type": "code",
   "execution_count": null,
   "metadata": {},
   "outputs": [],
   "source": [
    "gc.collect()\n"
   ]
  },
  {
   "cell_type": "code",
   "execution_count": null,
   "metadata": {},
   "outputs": [],
   "source": [
    "X_train, X_test, y_train, y_test = train_test_split(\n",
    "    X, y, train_size=0.9, random_state=12, shuffle=True, stratify=y)"
   ]
  },
  {
   "cell_type": "code",
   "execution_count": null,
   "metadata": {},
   "outputs": [],
   "source": [
    "gc.collect()\n",
    "sse = []\n",
    "list_k = [14, 32,64,96,128,160,256]\n",
    "for k in list_k:\n",
    "    kmeans = MiniBatchKMeans(\n",
    "        n_clusters=k, \n",
    "        random_state=12, \n",
    "        batch_size=1000)\n",
    "    clusters = kmeans.fit_predict(reshaped_data)\n",
    "    clusters = clusters.astype(\"int\")\n",
    "    sse.append(kmeans.inertia_)\n",
    "    reference_labels = get_reference_dict(clusters,y_train)\n",
    "    predicted_labels = get_labels(clusters,reference_labels)\n",
    "    print(f\"Accuracy for k = {k}: \", accuracy_score(predicted_labels,y_train))\n",
    "#end for"
   ]
  },
  {
   "cell_type": "code",
   "execution_count": null,
   "metadata": {},
   "outputs": [],
   "source": [
    "# Plot sse against k\n",
    "plt.figure(figsize=(6, 6))\n",
    "plt.plot(list_k, sse, '-o')\n",
    "plt.xlabel(r'Number of clusters')\n",
    "plt.ylabel('Sum of squared distance');"
   ]
  },
  {
   "cell_type": "code",
   "execution_count": null,
   "metadata": {},
   "outputs": [],
   "source": [
    "gc.collect()"
   ]
  },
  {
   "cell_type": "code",
   "execution_count": null,
   "metadata": {},
   "outputs": [],
   "source": [
    "k = 64\n",
    "kmeans = MiniBatchKMeans(\n",
    "    n_clusters=k, \n",
    "    random_state=12, \n",
    "    batch_size=1000)\n",
    "clusters = kmeans.fit_predict(reshaped_data)\n",
    "clusters = clusters.astype(\"int\")\n",
    "sse=kmeans.inertia_\n",
    "reference_labels = get_reference_dict(clusters,y_train)\n",
    "predicted_labels = get_labels(clusters,reference_labels)\n",
    "print(f\"Accuracy for k = {k}: \", accuracy_score(predicted_labels,y_train))"
   ]
  },
  {
   "cell_type": "code",
   "execution_count": null,
   "metadata": {},
   "outputs": [],
   "source": [
    "plt.hist(clusters)\n",
    "plt.title('Number of classifications per cluster');"
   ]
  },
  {
   "cell_type": "code",
   "execution_count": null,
   "metadata": {},
   "outputs": [],
   "source": [
    "plt.hist(predicted_labels)\n",
    "plt.title('Number of classifications per style');"
   ]
  },
  {
   "cell_type": "code",
   "execution_count": null,
   "metadata": {},
   "outputs": [],
   "source": [
    "from sklearn.manifold import TSNE\n",
    "idx = np.random.randint(14000, size=1500, replace = False)\n",
    "reshaped_data_sub = reshaped_data[idx,:]\n",
    "clusters_sub = clusters[idx]\n",
    "\n",
    "def tsne_plot(x1, y1, name=\"graph.png\"):\n",
    "    tsne = TSNE(n_components=2, random_state=0)\n",
    "    X_t = tsne.fit_transform(x1)\n",
    "    \n",
    "    u_labels = np.unique(y1)\n",
    "    \n",
    "    plt.figure(figsize=(12, 8))\n",
    "    for i in u_labels:\n",
    "        plt.scatter(X_t[np.where(y1 == i), 0], X_t[np.where(y1 == i), 1], linewidth='1', alpha=0.8, label= i)\n",
    "    plt.legend(loc='best');\n",
    "    plt.savefig(name);\n",
    "    plt.show();\n",
    "    \n",
    "tsne_plot(reshaped_data_sub, clusters_sub, \"original.png\")"
   ]
  },
  {
   "cell_type": "code",
   "execution_count": null,
   "metadata": {},
   "outputs": [],
   "source": [
    "gc.collect()"
   ]
  },
  {
   "cell_type": "code",
   "execution_count": null,
   "metadata": {},
   "outputs": [],
   "source": []
  }
 ],
 "metadata": {
  "kernelspec": {
   "display_name": "Python 3",
   "language": "python",
   "name": "python3"
  },
  "language_info": {
   "codemirror_mode": {
    "name": "ipython",
    "version": 3
   },
   "file_extension": ".py",
   "mimetype": "text/x-python",
   "name": "python",
   "nbconvert_exporter": "python",
   "pygments_lexer": "ipython3",
   "version": "3.8.3"
  }
 },
 "nbformat": 4,
 "nbformat_minor": 4
}
