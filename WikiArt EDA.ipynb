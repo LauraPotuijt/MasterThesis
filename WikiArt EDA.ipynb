{
 "cells": [
  {
   "cell_type": "code",
   "execution_count": null,
   "metadata": {
    "id": "qWrQMTbIL8tg"
   },
   "outputs": [],
   "source": [
    "base_path = '/content/WikiArt'\n",
    "print(os.listdir(base_path))\n",
    "genres = os.listdir(base_path)\n"
   ]
  },
  {
   "cell_type": "markdown",
   "metadata": {
    "id": "8cZe9vsCzT3g"
   },
   "source": [
    "# Import from drive\n"
   ]
  },
  {
   "cell_type": "code",
   "execution_count": null,
   "metadata": {
    "colab": {
     "base_uri": "https://localhost:8080/"
    },
    "executionInfo": {
     "elapsed": 518,
     "status": "ok",
     "timestamp": 1645702245496,
     "user": {
      "displayName": "Laura Potuijt",
      "photoUrl": "https://lh3.googleusercontent.com/a-/AOh14Gi2bXM0--8jKzCsU7dx-SU9Tuh5QCCVDDlm_Cjrgw=s64",
      "userId": "12250639447633977575"
     },
     "user_tz": -60
    },
    "id": "H4SJ-tGNkOeY",
    "outputId": "5653f5ee-6508-485f-af18-599ace249da6"
   },
   "outputs": [],
   "source": [
    "# After executing the cell above, Drive\n",
    "# files will be present in \"/content/drive/My Drive\".\n",
    "!ls \"/content/drive/My Drive/WikiArt2/wikiart\""
   ]
  },
  {
   "cell_type": "code",
   "execution_count": null,
   "metadata": {
    "id": "6mCyG-Cs1AWG"
   },
   "outputs": [],
   "source": [
    "genres =[\n",
    "    'Art Nouveau Modern', \n",
    "    'Post Impressionism ',\n",
    "    'Fauvism' ,\n",
    "    'Color Field Painting',\n",
    "    'Pop Art',\n",
    "    'Expressionism',\n",
    "    'Cubism',\n",
    "    'Realism' ,\n",
    "    'New Realism',\n",
    "    'Early Renaissance ',\n",
    "    'Romanticism',\n",
    "    'Analytical Cubism',\n",
    "    'Action painting', \n",
    "    'Contemporary Realism',\n",
    "    'Manneris Late Renaissance',\n",
    "    'Synthetic Cubism',\n",
    "    'Pointillism',\n",
    "    'Minimalism',\n",
    "    'Ukiyo-e' ,\n",
    "    'Baroque',\n",
    "    'Symbolism',\n",
    "    'Rococo',\n",
    "    'Northern Renaissance',\n",
    "    'Naive Art Primitivism',\n",
    "    'Abstract Expressionism',\n",
    "    'High Renaissance',\n",
    "    'Impressionism']\n",
    "\n",
    "content = [4334, 6450, 934, 1615, 1483, 6736, 2235, 10733, 314, 1391, 7019, 110,\n",
    "           98,  481,  1279,  216, 513, 1337, 1167, 4240, 4528, 2089, 2552, 2405,\n",
    "           2782, 1343, 13060]"
   ]
  },
  {
   "cell_type": "code",
   "execution_count": null,
   "metadata": {},
   "outputs": [],
   "source": [
    "import pandas as pd\n",
    "distribution=pd.DataFrame({'genres':genres,'content':content})\n",
    "distribution.sort_values('content',inplace=True)\n",
    "\n",
    "import matplotlib.pyplot as plt\n",
    "\n",
    "dist = plt.barh(distribution['genres'],distribution['content'])\n",
    "for  bar in dist:\n",
    "    width = bar.get_width()\n",
    "    label_y = bar.get_y() + bar.get_height() / 2\n",
    "    plt.text(width, label_y, s=f'{width}')\n",
    "plt.ylabel('Style')\n",
    "plt.xlabel('Quantity')\n",
    "plt.legend('',frameon=False)\n",
    "\n",
    "plt.show()"
   ]
  },
  {
   "cell_type": "markdown",
   "metadata": {
    "id": "k0I0EG8GHCkB"
   },
   "source": [
    "#Load libraries\n"
   ]
  },
  {
   "cell_type": "code",
   "execution_count": null,
   "metadata": {
    "colab": {
     "base_uri": "https://localhost:8080/"
    },
    "executionInfo": {
     "elapsed": 13095,
     "status": "ok",
     "timestamp": 1646308358544,
     "user": {
      "displayName": "Laura Potuijt",
      "photoUrl": "https://lh3.googleusercontent.com/a-/AOh14Gi2bXM0--8jKzCsU7dx-SU9Tuh5QCCVDDlm_Cjrgw=s64",
      "userId": "12250639447633977575"
     },
     "user_tz": -60
    },
    "id": "xYydogK8L4Tg",
    "outputId": "d22bb076-480e-4a31-c768-f9f367f007ab"
   },
   "outputs": [],
   "source": [
    "\n",
    "import numpy as np\n",
    "import pandas as pd\n",
    "import sklearn\n",
    "import os\n",
    "\n",
    "\n",
    "\n",
    "#These libraries help with dealing with image datasets\n",
    "import cv2\n",
    "import matplotlib.pyplot as plt\n",
    "import torch\n",
    "import torchvision\n",
    "from torch.utils.data import Dataset, DataLoader\n",
    "from torchvision import transforms, utils\n",
    "from torchvision import datasets, models, transforms\n",
    "\n",
    "!pip install random2\n",
    "import random2\n",
    "from sklearn.model_selection import train_test_split\n",
    "import random\n",
    "\n"
   ]
  },
  {
   "cell_type": "markdown",
   "metadata": {
    "id": "tJqdnXglseSn"
   },
   "source": [
    "# jupyter"
   ]
  },
  {
   "cell_type": "code",
   "execution_count": null,
   "metadata": {
    "id": "DSVBf3riseSo"
   },
   "outputs": [],
   "source": [
    "base_path= 'C:/Users/laura/Google Drive/WikiArt2/wikiart'\n",
    "genres = os.listdir(base_path)"
   ]
  },
  {
   "cell_type": "code",
   "execution_count": null,
   "metadata": {},
   "outputs": [],
   "source": [
    "genres"
   ]
  },
  {
   "cell_type": "markdown",
   "metadata": {
    "id": "v0lUoZ53zbUm"
   },
   "source": [
    "# Load data"
   ]
  },
  {
   "cell_type": "code",
   "execution_count": null,
   "metadata": {
    "id": "zVRHGOxpMh1U"
   },
   "outputs": [],
   "source": [
    "#print(len(training_data))\n",
    "genres_f = []\n",
    "for genre in genres:\n",
    "        path = os.path.join(base_path, genre)\n",
    "        length = len(os.listdir(path))\n",
    "        if length > 1500:\n",
    "          genres_f.append(genre)"
   ]
  },
  {
   "cell_type": "code",
   "execution_count": null,
   "metadata": {
    "colab": {
     "base_uri": "https://localhost:8080/"
    },
    "executionInfo": {
     "elapsed": 197,
     "status": "ok",
     "timestamp": 1645702716393,
     "user": {
      "displayName": "Laura Potuijt",
      "photoUrl": "https://lh3.googleusercontent.com/a-/AOh14Gi2bXM0--8jKzCsU7dx-SU9Tuh5QCCVDDlm_Cjrgw=s64",
      "userId": "12250639447633977575"
     },
     "user_tz": -60
    },
    "id": "NG5f6dEXhIND",
    "outputId": "ff9354f3-4cfa-452b-a5a5-91d38f7bf306"
   },
   "outputs": [],
   "source": [
    "genres_f"
   ]
  },
  {
   "cell_type": "code",
   "execution_count": null,
   "metadata": {},
   "outputs": [],
   "source": [
    "# size of images\n",
    "size = []\n",
    "for genre in genres_f:\n",
    "    path = os.path.join(base_path, genre)\n",
    "    for img in os.listdir(path):\n",
    "        img_array = cv2.imread(os.path.join(path,img), cv2.IMREAD_COLOR)\n",
    "        if img_array is None:\n",
    "            print('Wrong path:', path)\n",
    "        else:\n",
    "            height = img_array.shape[0]\n",
    "            width = img_array.shape[1]\n",
    "            size.append([genre, height, width])\n",
    "        \n",
    "    "
   ]
  },
  {
   "cell_type": "code",
   "execution_count": null,
   "metadata": {},
   "outputs": [],
   "source": [
    "\n",
    "plt.plot(pd.DataFrame(size)[1], pd.DataFrame(size)[2], 'o', color='black')"
   ]
  },
  {
   "cell_type": "code",
   "execution_count": null,
   "metadata": {},
   "outputs": [],
   "source": [
    "size_df = pd.DataFrame(size, columns = ['style', 'height', 'width'])\n",
    "\n",
    "for genre in genres_f:\n",
    "    selection = size_df[size_df['style'] == genre]\n",
    "    plt.plot(selection['height'], selection['width'], 'o', alpha =0.01, label=genre)"
   ]
  },
  {
   "cell_type": "code",
   "execution_count": null,
   "metadata": {},
   "outputs": [],
   "source": [
    "size_df"
   ]
  },
  {
   "cell_type": "code",
   "execution_count": null,
   "metadata": {},
   "outputs": [],
   "source": [
    "for genre in genres_f:\n",
    "    selection = size_df[size_df['style'] == genre]\n",
    "    selection.plot(kind = 'box', title = genre)"
   ]
  },
  {
   "cell_type": "code",
   "execution_count": null,
   "metadata": {},
   "outputs": [],
   "source": [
    "measures = ['height', 'width']\n",
    "for measure in measures:\n",
    "    selection = size_df[size_df['height'] == measure]\n",
    "    selection.plot(kind = 'box' )"
   ]
  },
  {
   "cell_type": "code",
   "execution_count": null,
   "metadata": {},
   "outputs": [],
   "source": [
    "for genre in genres_f:\n",
    "    selection = size_df[size_df['style'] == genre]\n",
    "    plt.boxplot(selection['height'])"
   ]
  },
  {
   "cell_type": "code",
   "execution_count": null,
   "metadata": {},
   "outputs": [],
   "source": [
    "size"
   ]
  },
  {
   "cell_type": "code",
   "execution_count": null,
   "metadata": {},
   "outputs": [],
   "source": [
    "fig, ax = plt.subplots(14, figsize = (8, 80))\n",
    "i = 0\n",
    "\n",
    "for genre in genres_f:\n",
    "    selection = size_df[size_df['style'] == genre]\n",
    "    ax[i].scatter(x = selection['width'], y = selection['height'])\n",
    "    ax[i].set_xlabel(\"Width\")\n",
    "    ax[i].set_ylabel(\"Height\")\n",
    "    ax[i].set_title(genre)\n",
    "    i = i+1\n",
    "\n",
    "plt.show()"
   ]
  },
  {
   "cell_type": "code",
   "execution_count": null,
   "metadata": {},
   "outputs": [],
   "source": [
    "fig, ax = plt.subplots(14, figsize = (8, 80))\n",
    "i = 0\n",
    "\n",
    "for genre in genres_f:\n",
    "    selection = size_df[size_df['style'] == genre]\n",
    "    ax[i].boxplot(x = selection['height'])\n",
    "    ax[i].set_ylabel(\"Height\")\n",
    "    ax[i].set_title(genre)\n",
    "    i = i+1\n",
    "\n",
    "plt.show()"
   ]
  },
  {
   "cell_type": "code",
   "execution_count": null,
   "metadata": {},
   "outputs": [],
   "source": [
    "for genre in genres_f:\n",
    "    selection = size_df[size_df['style'] == genre]\n",
    "    print(genre, \":\", \n",
    "          'Height:', selection['height'].min(), \"-\", selection['height'].max(), \n",
    "          \"Width:\", selection['width'].min(), \"- \", selection['width'].max(),\n",
    "          \"Mean height:\",  selection['height'].mean(),\n",
    "         \"Mean width:\", selection['width'].mean())"
   ]
  },
  {
   "cell_type": "code",
   "execution_count": null,
   "metadata": {
    "colab": {
     "base_uri": "https://localhost:8080/",
     "height": 338
    },
    "executionInfo": {
     "elapsed": 2262,
     "status": "ok",
     "timestamp": 1645536232229,
     "user": {
      "displayName": "Laura Potuijt",
      "photoUrl": "https://lh3.googleusercontent.com/a-/AOh14Gi2bXM0--8jKzCsU7dx-SU9Tuh5QCCVDDlm_Cjrgw=s64",
      "userId": "12250639447633977575"
     },
     "user_tz": -60
    },
    "id": "kvme2mpOMQoS",
    "outputId": "c9c21300-e3f3-4d11-b05a-02c22b9ebcf7"
   },
   "outputs": [],
   "source": [
    "\n",
    "for genre in genres:\n",
    "    path = os.path.join(base_path, genre)\n",
    "    print(path)\n",
    "    class_num = genres.index(genre) #assigning each art category a classification based on it's index in the list\n",
    "    print(class_num)\n",
    "    for img in os.listdir(path):\n",
    "        img_array = cv2.imread(os.path.join(path,img), cv2.IMREAD_COLOR)\n",
    "        #showing an image\n",
    "        plt.imshow(img_array)\n",
    "        plt.show()\n",
    "        break\n",
    "    break\n",
    "\n",
    "print(img_array.shape[0])\n",
    "print(len(img_array))\n",
    "\n"
   ]
  },
  {
   "cell_type": "code",
   "execution_count": null,
   "metadata": {},
   "outputs": [],
   "source": []
  },
  {
   "cell_type": "code",
   "execution_count": null,
   "metadata": {
    "colab": {
     "base_uri": "https://localhost:8080/",
     "height": 235
    },
    "executionInfo": {
     "elapsed": 172,
     "status": "error",
     "timestamp": 1645536192969,
     "user": {
      "displayName": "Laura Potuijt",
      "photoUrl": "https://lh3.googleusercontent.com/a-/AOh14Gi2bXM0--8jKzCsU7dx-SU9Tuh5QCCVDDlm_Cjrgw=s64",
      "userId": "12250639447633977575"
     },
     "user_tz": -60
    },
    "id": "FA40m9vNMczz",
    "outputId": "fac0e265-43e8-43f5-f1b2-fa8650160d3b"
   },
   "outputs": [],
   "source": [
    "\n",
    "size=512\n",
    "new_array = cv2.resize(img_array, (size,size))\n",
    "plt.imshow(new_array)\n",
    "plt.show()"
   ]
  },
  {
   "cell_type": "code",
   "execution_count": null,
   "metadata": {
    "executionInfo": {
     "elapsed": 8055805,
     "status": "ok",
     "timestamp": 1645710967758,
     "user": {
      "displayName": "Laura Potuijt",
      "photoUrl": "https://lh3.googleusercontent.com/a-/AOh14Gi2bXM0--8jKzCsU7dx-SU9Tuh5QCCVDDlm_Cjrgw=s64",
      "userId": "12250639447633977575"
     },
     "user_tz": -60
    },
    "id": "B2Y2FwYm5ENf",
    "outputId": "c2b5436e-6d18-4be8-a8b1-1988fa985b39"
   },
   "outputs": [],
   "source": [
    "training_data = []\n",
    "\n",
    "def create_train_data():\n",
    "    for genre in genres_f:\n",
    "        path = os.path.join(base_path, genre)\n",
    "        class_num = genres_f.index(genre) #assigning each art category a classification based on it's index in the list\n",
    "        selected_images = random.sample(os.listdir(path), 1500) \n",
    "        for img in selected_images:\n",
    "                img_array = cv2.imread(os.path.join(path,img))\n",
    "                if img_array is None:\n",
    "                    print('Wrong path:', path)\n",
    "                else:\n",
    "                    new_array = cv2.resize(img_array, (224,224))\n",
    "                    training_data.append([new_array, class_num])\n",
    "\n",
    "\n",
    "create_train_data()"
   ]
  },
  {
   "cell_type": "code",
   "execution_count": null,
   "metadata": {
    "id": "pYakIv8sHxEm"
   },
   "outputs": [],
   "source": [
    "labels_numbers = []\n",
    "\n",
    "def create_labels():\n",
    "    for genre in genres_f:\n",
    "        class_num = genres_f.index(genre) #assigning each art category a classification based on it's index in the list\n",
    "        labels_numbers.append([genre, class_num])\n",
    "\n",
    "\n",
    "create_labels()"
   ]
  },
  {
   "cell_type": "code",
   "execution_count": null,
   "metadata": {
    "colab": {
     "base_uri": "https://localhost:8080/"
    },
    "executionInfo": {
     "elapsed": 210,
     "status": "ok",
     "timestamp": 1645713005747,
     "user": {
      "displayName": "Laura Potuijt",
      "photoUrl": "https://lh3.googleusercontent.com/a-/AOh14Gi2bXM0--8jKzCsU7dx-SU9Tuh5QCCVDDlm_Cjrgw=s64",
      "userId": "12250639447633977575"
     },
     "user_tz": -60
    },
    "id": "WlnORoT5I4W4",
    "outputId": "b2321c5b-c7e8-4e78-f238-b3e02185065e"
   },
   "outputs": [],
   "source": [
    "labels_numbers"
   ]
  },
  {
   "cell_type": "code",
   "execution_count": null,
   "metadata": {
    "id": "Oq517fyPseSv"
   },
   "outputs": [],
   "source": [
    "#training_data.groupby(training_data.iloc[: , -1]).sample(n=1500)"
   ]
  },
  {
   "cell_type": "code",
   "execution_count": null,
   "metadata": {
    "id": "YqQxHH2KMosF"
   },
   "outputs": [],
   "source": [
    "\n",
    "#shuffling the training set\n",
    "\n",
    "random.shuffle(training_data)"
   ]
  },
  {
   "cell_type": "code",
   "execution_count": null,
   "metadata": {
    "id": "78_590wkMuQZ"
   },
   "outputs": [],
   "source": [
    "X=[]\n",
    "y= []\n",
    "\n",
    "for features, label in training_data: \n",
    "    X.append(features)\n",
    "    y.append(label)\n",
    "    \n",
    "X = np.array(X).reshape(-1, 128, 128, 3)"
   ]
  },
  {
   "cell_type": "markdown",
   "metadata": {
    "id": "5L_g9mGSLw4S"
   },
   "source": [
    "# Save generated data\n"
   ]
  },
  {
   "cell_type": "code",
   "execution_count": null,
   "metadata": {
    "id": "72ruBl0GDk6O"
   },
   "outputs": [],
   "source": [
    "with open('C:/Users/laura/Google Drive/WikiArt2/features.npy', 'wb') as f:\n",
    "    np.save(f, X)\n",
    "    #'/content/drive/My Drive/WikiArt2/features.npy'"
   ]
  },
  {
   "cell_type": "code",
   "execution_count": null,
   "metadata": {
    "id": "f0SGCxQ2HDhW"
   },
   "outputs": [],
   "source": [
    "with open('C:/Users/laura/Google Drive/WikiArt2/labels.npy', 'wb') as f:\n",
    "    np.save(f, y)\n",
    "    # '/content/drive/My Drive/WikiArt2/labels.npy'"
   ]
  },
  {
   "cell_type": "code",
   "execution_count": null,
   "metadata": {
    "id": "COXZgARoHOVt"
   },
   "outputs": [],
   "source": [
    "with open('C:/Users/laura/Google Drive/WikiArt2/labels_numbers.npy', 'wb') as f:\n",
    "    np.save(f, labels_numbers)\n",
    "    #'/content/drive/My Drive/WikiArt2/labels_numbers.npy'"
   ]
  },
  {
   "cell_type": "markdown",
   "metadata": {
    "id": "-QCKSK8VLz4-"
   },
   "source": [
    "# load saved data"
   ]
  },
  {
   "cell_type": "code",
   "execution_count": null,
   "metadata": {
    "id": "-bY34KmxKzlH"
   },
   "outputs": [],
   "source": [
    "with open('C:/Users/laura/Google Drive/WikiArt2/features.npy', 'rb') as f:\n",
    "    X = np.load(f)"
   ]
  },
  {
   "cell_type": "code",
   "execution_count": null,
   "metadata": {
    "id": "NRovrVc9LYUd"
   },
   "outputs": [],
   "source": [
    "with open('C:/Users/laura/Google Drive/WikiArt2/labels.npy', 'rb') as f:\n",
    "    y = np.load(f)"
   ]
  },
  {
   "cell_type": "code",
   "execution_count": 2,
   "metadata": {},
   "outputs": [
    {
     "ename": "SyntaxError",
     "evalue": "invalid syntax (<ipython-input-2-ae90cd5b439e>, line 1)",
     "output_type": "error",
     "traceback": [
      "\u001b[1;36m  File \u001b[1;32m\"<ipython-input-2-ae90cd5b439e>\"\u001b[1;36m, line \u001b[1;32m1\u001b[0m\n\u001b[1;33m    nbconvert --clear-output --inplace EDA2.ipynb\u001b[0m\n\u001b[1;37m                                       ^\u001b[0m\n\u001b[1;31mSyntaxError\u001b[0m\u001b[1;31m:\u001b[0m invalid syntax\n"
     ]
    }
   ],
   "source": [
    "jupyter nbconvert --clear-output --inplace EDA2.ipynb"
   ]
  },
  {
   "cell_type": "code",
   "execution_count": null,
   "metadata": {},
   "outputs": [],
   "source": [
    "jupyter nbconvert EDA2.ipynb --to notebook --ClearOutputPreprocessor.enabled=True --stdout > my_output_notebook.ipynb\n"
   ]
  }
 ],
 "metadata": {
  "accelerator": "TPU",
  "colab": {
   "collapsed_sections": [],
   "name": "Untitled3.ipynb",
   "provenance": []
  },
  "kernelspec": {
   "display_name": "Python 3",
   "language": "python",
   "name": "python3"
  },
  "language_info": {
   "codemirror_mode": {
    "name": "ipython",
    "version": 3
   },
   "file_extension": ".py",
   "mimetype": "text/x-python",
   "name": "python",
   "nbconvert_exporter": "python",
   "pygments_lexer": "ipython3",
   "version": "3.8.3"
  }
 },
 "nbformat": 4,
 "nbformat_minor": 1
}
